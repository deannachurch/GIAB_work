{
 "cells": [
  {
   "cell_type": "markdown",
   "metadata": {},
   "source": [
    "1. Read remapped bed file\n",
    "2. Check that the alt base is actually the base in GRCh38\n",
    "3. Switch name\n",
    "4. Emit new bed file "
   ]
  },
  {
   "cell_type": "code",
   "execution_count": 1,
   "metadata": {
    "collapsed": true
   },
   "outputs": [],
   "source": [
    "from pyfaidx import Fasta\n",
    "import csv"
   ]
  },
  {
   "cell_type": "code",
   "execution_count": 12,
   "metadata": {
    "collapsed": true
   },
   "outputs": [],
   "source": [
    "bed_file=\"remap_data/remapped_GRCh37_GRCh38_flipped_sites.bed\"\n",
    "assm=\"/Users/deanna.church/Documents/Content/Assembly/GRCh38/GRCh38_ucsc.fna\"#need to unzip file"
   ]
  },
  {
   "cell_type": "code",
   "execution_count": 21,
   "metadata": {
    "collapsed": false
   },
   "outputs": [
    {
     "data": {
      "text/plain": [
       ">1:835188-835188\n",
       "G"
      ]
     },
     "execution_count": 21,
     "metadata": {},
     "output_type": "execute_result"
    }
   ],
   "source": [
    "h38=Fasta(assm, key_function = lambda x: x.replace('chr', ''))\n",
    "h38['1'][835187]"
   ]
  },
  {
   "cell_type": "code",
   "execution_count": 43,
   "metadata": {
    "collapsed": false
   },
   "outputs": [
    {
     "name": "stdout",
     "output_type": "stream",
     "text": [
      "RefBase mismatch: rs3122962\t22\t11893547 T != A\n",
      "RefBase mismatch: rs8186366\t11\t54821773 T != A\n",
      "RefBase mismatch: rs6606806\t15\t22935422 A != T\n",
      "RefBase mismatch: rs557965\tHSCHR21_6_CTG1_1\t142806 T != G\n",
      "RefBase mismatch: rs6517816\tHSCHR19_3_CTG2\t73246 T != A\n",
      "RefBase mismatch: rs2012713\t21\t7759127 G != T\n",
      "RefBase mismatch: rs514626\t21\t6138244 C != G\n",
      "RefBase mismatch: rs229354\t21\t6036218 C != G\n",
      "RefBase mismatch: rs229358\t21\t5992604 A != T\n",
      "RefBase mismatch: rs7277128\t21\t5161716 C != G\n",
      "RefBase mismatch: rs9637178\t21\t5161709 G != C\n",
      "RefBase mismatch: rs9982286\t21\t5112625 G != C\n",
      "RefBase mismatch: rs412610\t21\t5090377 C != G\n",
      "RefBase mismatch: rs413328\t21\t5088611 G != C\n",
      "RefBase mismatch: rs178257\t22\t20968781 C != T\n",
      "RefBase mismatch: rs603526\t13\t18421567 T != A\n"
     ]
    }
   ],
   "source": [
    "map_hash={\n",
    "    'HSCHR11_2_CTG1' : '11_KI270902v1_alt',\n",
    "    'HSCHR15_4_CTG8' : '15_KI270905v1_alt',\n",
    "    'HSCHR17_2_CTG5' : '17_KI270908v1_alt',\n",
    "    'HSCHR19_3_CTG2' : '19_GL383576v1_alt',\n",
    "    'HSCHR1_2_CTG31' : '1_GL383519v1_alt',\n",
    "    'HSCHR21_6_CTG1_1' : '21_KI270873v1_alt',\n",
    "    'HSCHR4_RANDOM_CTG4' : '4_GL000008v2_random',\n",
    "    'HSCHR6_MHC_SSTO_CTG1' : '6_GL000256v2_alt'\n",
    "}\n",
    "\n",
    "out=open('GRCh38_GRCh37_flipped_sites.bed', 'w')\n",
    "out.write(\"track db=GRCh38\\n\")\n",
    "with open(bed_file, 'r') as infile:\n",
    "    data=csv.reader(infile, delimiter=\"\\t\")\n",
    "    for line in data:\n",
    "        if not line[0].startswith(\"#\") and not line[0] == 'track':\n",
    "            name=line[3]\n",
    "            new_ref=line[3].split(':')[2].split('=')[1]\n",
    "            new_alt=line[3].split(':')[1].split('=')[1]\n",
    "            rsID=line[3].split(':')[0]\n",
    "            if line[0] in map_hash.keys():\n",
    "                try:\n",
    "                    base=str(h38[map_hash[line[0]]][int(line[1])])\n",
    "                except:\n",
    "                    print \"Map hash fail\"\n",
    "            else:\n",
    "                try:\n",
    "                    base=str(h38[line[0]][int(line[1])])\n",
    "                except:\n",
    "                    print \"other fail\"\n",
    "                    \n",
    "            if new_ref == base:\n",
    "                out.write(\"%s\\t%s\\t%s\\t%s:ref=%s:alt=%s\\n\" % (line[0], line[1], line[2], rsID, new_ref, new_alt))\n",
    "            else:\n",
    "                try:\n",
    "                    print \"RefBase mismatch: %s\\t%s\\t%s %s != %s\" % (rsID, line[0], line[1], new_ref, base)\n",
    "                except:\n",
    "                    print \"print fail\"\n",
    "\n",
    "out.close()"
   ]
  },
  {
   "cell_type": "markdown",
   "metadata": {},
   "source": [
    "RefBase mismatch: rs3122962\t22\t11893547 T != A: this is secondary alignment\n",
    "RefBase mismatch: rs8186366\t11\t54821773 T != A: sequence inverted in GRCh38, strand not in outputted bed file...\n",
    "RefBase mismatch: rs6606806\t15\t22935422 A != T: sequence inverted in GRCh38, strand not in outputted bed file...\n",
    "RefBase mismatch: rs557965\tHSCHR21_6_CTG1_1\t142806 T != G: not sure what is going on\n",
    "RefBase mismatch: rs6517816\tHSCHR19_3_CTG2\t73246 T != A: sequence inverted in GRCh38, strand not in outputted bed file...\n",
    "RefBase mismatch: rs2012713\t21\t7759127 G != T: not flipped\n",
    "\n"
   ]
  }
 ],
 "metadata": {
  "kernelspec": {
   "display_name": "Python 2",
   "language": "python",
   "name": "python2"
  },
  "language_info": {
   "codemirror_mode": {
    "name": "ipython",
    "version": 2
   },
   "file_extension": ".py",
   "mimetype": "text/x-python",
   "name": "python",
   "nbconvert_exporter": "python",
   "pygments_lexer": "ipython2",
   "version": "2.7.11"
  }
 },
 "nbformat": 4,
 "nbformat_minor": 0
}
